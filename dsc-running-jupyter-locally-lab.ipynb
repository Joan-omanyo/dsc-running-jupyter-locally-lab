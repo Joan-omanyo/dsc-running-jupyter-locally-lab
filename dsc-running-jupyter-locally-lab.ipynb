{
 "cells": [
  {
   "cell_type": "code",
   "execution_count": 1,
   "id": "86c084fd-d04c-48d4-a905-6029d1844c32",
   "metadata": {},
   "outputs": [
    {
     "data": {
      "text/plain": [
       "42"
      ]
     },
     "execution_count": 1,
     "metadata": {},
     "output_type": "execute_result"
    }
   ],
   "source": [
    "number = 42\n",
    "number\n"
   ]
  },
  {
   "cell_type": "code",
   "execution_count": 2,
   "id": "dadd4428-cefa-49e9-bb9e-b9fab74ff7a0",
   "metadata": {},
   "outputs": [
    {
     "data": {
      "text/plain": [
       "'Change Things'"
      ]
     },
     "execution_count": 2,
     "metadata": {},
     "output_type": "execute_result"
    }
   ],
   "source": [
    "flatiron_mantra = \"Change Things\"\n",
    "flatiron_mantra"
   ]
  },
  {
   "cell_type": "code",
   "execution_count": 3,
   "id": "13b33875-47b9-4d25-befe-8e53ef3e1a72",
   "metadata": {},
   "outputs": [
    {
     "name": "stdout",
     "output_type": "stream",
     "text": [
      "my name is Joan\n"
     ]
    }
   ],
   "source": [
    "### This is a new header\n",
    "print('my name is Joan')"
   ]
  },
  {
   "cell_type": "code",
   "execution_count": null,
   "id": "533ed268-db0a-48a4-bb75-c49a65a55178",
   "metadata": {},
   "outputs": [],
   "source": []
  }
 ],
 "metadata": {
  "kernelspec": {
   "display_name": "Python [conda env:base] *",
   "language": "python",
   "name": "conda-base-py"
  },
  "language_info": {
   "codemirror_mode": {
    "name": "ipython",
    "version": 3
   },
   "file_extension": ".py",
   "mimetype": "text/x-python",
   "name": "python",
   "nbconvert_exporter": "python",
   "pygments_lexer": "ipython3",
   "version": "3.12.7"
  }
 },
 "nbformat": 4,
 "nbformat_minor": 5
}
